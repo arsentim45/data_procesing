{
 "cells": [
  {
   "cell_type": "code",
   "execution_count": 1,
   "metadata": {},
   "outputs": [],
   "source": [
    "import os\n",
    "\n",
    "import cv2\n",
    "\n",
    "import numpy as np\n",
    "\n",
    "import matplotlib.pyplot as plt\n",
    "\n",
    "from skimage.util import random_noise\n",
    "\n",
    "from skimage.color import rgb2gray\n",
    "\n",
    "from skimage.transform import rotate\n",
    "\n",
    "from skimage import exposure\n",
    "\n",
    "from scipy import ndimage\n",
    "import os"
   ]
  },
  {
   "cell_type": "code",
   "execution_count": 2,
   "metadata": {},
   "outputs": [
    {
     "data": {
      "text/plain": [
       "['cats', 'horses', 'flowers', 'cars', 'bike', 'human', 'dogs']"
      ]
     },
     "execution_count": 2,
     "metadata": {},
     "output_type": "execute_result"
    }
   ],
   "source": [
    "PATH = os.getcwd()\n",
    "data_path = PATH + '/input/data/'\n",
    "\n",
    "data_dir_list = os.listdir(data_path)\n",
    "\n",
    "data_dir_list"
   ]
  },
  {
   "cell_type": "code",
   "execution_count": 4,
   "metadata": {},
   "outputs": [],
   "source": [
    "cati = 202\n",
    "dogi = 202\n",
    "humani = 202\n",
    "horsi = 202 \n",
    "carsi = 420\n",
    "floweri = 210\n",
    "bikei = 365\n",
    "i = 0\n",
    "j = 0\n",
    "d = {'cats':cati,'dogs':dogi,'human':humani,'horses':horsi,'cars':carsi,'flowers':floweri,'bike':bikei}\n",
    "d2 = {'cats':'cat','dogs':'dog','human':'human','horses':'horse','cars':'car','flowers':'flower','bike':'bike'}\n",
    "lst = []\n",
    "for dataset in data_dir_list:\n",
    "    img_list=os.listdir(data_path+'/'+ dataset)\n",
    "    path = data_path\n",
    "    j += d[str(dataset)]\n",
    "    for img in img_list:\n",
    "        input_img=cv2.imread(data_path + '/'+ dataset + '/'+ img )\n",
    "        input_img = np.invert(input_img)\n",
    "        v_min, v_max = np.percentile(input_img, (0.2, 99.8))\n",
    "        input_img = exposure.rescale_intensity(input_img, in_range=(v_min, v_max))\n",
    "        input_img = exposure.adjust_gamma(input_img, gamma=0.4, gain=0.9)\n",
    "        input_img = exposure.adjust_log(input_img)\n",
    "        input_img = exposure.adjust_sigmoid(input_img)\n",
    "        i += 1\n",
    "        name = d2[str(dataset)] + str(i+j) +'.jpg'\n",
    "        cv2.imwrite(os.path.join(path , dataset, name),input_img)\n",
    "    lst.append(i)"
   ]
  },
  {
   "cell_type": "code",
   "execution_count": 5,
   "metadata": {},
   "outputs": [
    {
     "data": {
      "text/plain": [
       "[202, 404, 614, 1034, 1399, 1601, 1803]"
      ]
     },
     "execution_count": 5,
     "metadata": {},
     "output_type": "execute_result"
    }
   ],
   "source": [
    "lst"
   ]
  },
  {
   "cell_type": "code",
   "execution_count": 6,
   "metadata": {},
   "outputs": [],
   "source": [
    "j = 0\n",
    "for i in lst:\n",
    "    lst[j] = i+i\n",
    "    j+= 1"
   ]
  },
  {
   "cell_type": "code",
   "execution_count": 7,
   "metadata": {},
   "outputs": [
    {
     "data": {
      "text/plain": [
       "[404, 808, 1228, 2068, 2798, 3202, 3606]"
      ]
     },
     "execution_count": 7,
     "metadata": {},
     "output_type": "execute_result"
    }
   ],
   "source": [
    "lst\n"
   ]
  },
  {
   "cell_type": "code",
   "execution_count": null,
   "metadata": {},
   "outputs": [],
   "source": []
  }
 ],
 "metadata": {
  "kernelspec": {
   "display_name": "Python 3",
   "language": "python",
   "name": "python3"
  },
  "language_info": {
   "codemirror_mode": {
    "name": "ipython",
    "version": 3
   },
   "file_extension": ".py",
   "mimetype": "text/x-python",
   "name": "python",
   "nbconvert_exporter": "python",
   "pygments_lexer": "ipython3",
   "version": "3.6.6"
  }
 },
 "nbformat": 4,
 "nbformat_minor": 2
}
