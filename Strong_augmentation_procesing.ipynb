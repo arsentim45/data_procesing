{
 "cells": [
  {
   "cell_type": "code",
   "execution_count": 1,
   "metadata": {},
   "outputs": [],
   "source": [
    "import os\n",
    "\n",
    "import cv2\n",
    "\n",
    "import numpy as np\n",
    "\n",
    "import matplotlib.pyplot as plt\n",
    "\n",
    "from skimage.util import random_noise\n",
    "\n",
    "from skimage.color import rgb2gray\n",
    "\n",
    "from skimage.transform import rotate\n",
    "\n",
    "from skimage import exposure\n",
    "\n",
    "from scipy import ndimage\n",
    "import os"
   ]
  },
  {
   "cell_type": "code",
   "execution_count": 2,
   "metadata": {},
   "outputs": [
    {
     "data": {
      "text/plain": [
       "['cats', 'horses', 'flowers', 'cars', 'bike', 'human', 'dogs']"
      ]
     },
     "execution_count": 2,
     "metadata": {},
     "output_type": "execute_result"
    }
   ],
   "source": [
    "PATH = os.getcwd()\n",
    "data_path = PATH + '/input/data/'\n",
    "\n",
    "data_dir_list = os.listdir(data_path)\n",
    "\n",
    "data_dir_list"
   ]
  },
  {
   "cell_type": "code",
   "execution_count": null,
   "metadata": {},
   "outputs": [],
   "source": []
  },
  {
   "cell_type": "code",
   "execution_count": 3,
   "metadata": {},
   "outputs": [],
   "source": [
    "cati = 202\n",
    "dogi = 202\n",
    "humani = 202\n",
    "horsi = 202 \n",
    "carsi = 420\n",
    "floweri = 210\n",
    "bikei = 365\n",
    "i = 0\n",
    "j = 0\n",
    "d = {'cats':cati,'dogs':dogi,'human':humani,'horses':horsi,'cars':carsi,'flowers':floweri,'bike':bikei}\n",
    "d2 = {'cats':'cat','dogs':'dog','human':'human','horses':'horse','cars':'car','flowers':'flower','bike':'bike'}\n",
    "lst = []\n",
    "for dataset in data_dir_list:\n",
    "    img_list=os.listdir(data_path+'/'+ dataset)\n",
    "    path = data_path\n",
    "    j += d[str(dataset)]\n",
    "    for img in img_list:\n",
    "        input_img=cv2.imread(data_path + '/'+ dataset + '/'+ img )\n",
    "        #input_img_resize=cv2.cvtColor(input_img, cv2.COLOR_BGR2GRAY)\n",
    "        #input_img_resize=cv2.resize(input_img_resize,(128,128))\n",
    "        #noise\n",
    "        #image_with_random_noise = random_noise(input_img)\n",
    "        #i += 1\n",
    "        #name = d2[str(dataset)] + str(i+j) +'.jpg'\n",
    "        #cv2.imwrite(os.path.join(path , dataset, name),image_with_random_noise)\n",
    "        #gray\n",
    "        #gray_scale_image = rgb2gray(input_img)\n",
    "        #i += 1\n",
    "        #name = d2[str(dataset)] + str(i+j) +'.jpg'\n",
    "        #cv2.imwrite(os.path.join(path , dataset, name),gray_scale_image)\n",
    "        #color inversion\n",
    "        color_inversion_image_with_np = np.invert(input_img)\n",
    "        i += 1\n",
    "        name = d2[str(dataset)] + str(i+j) +'.jpg'\n",
    "        cv2.imwrite(os.path.join(path , dataset, name),color_inversion_image_with_np)\n",
    "        #rotation\n",
    "        #image_with_rotation = rotate(input_img, 90)\n",
    "        #i += 1\n",
    "        #name = d2[str(dataset)] + str(i+j) +'.jpg'\n",
    "        #cv2.imwrite(os.path.join(path , dataset, name),image_with_rotation)\n",
    "        #contrast\n",
    "        v_min, v_max = np.percentile(input_img, (0.2, 99.8))\n",
    "        better_contrast = exposure.rescale_intensity(input_img, in_range=(v_min, v_max))\n",
    "        i += 1\n",
    "        name = d2[str(dataset)] + str(i+j) +'.jpg'\n",
    "        cv2.imwrite(os.path.join(path , dataset, name),better_contrast)\n",
    "        #adjusted gamma\n",
    "        adjusted_gamma_image = exposure.adjust_gamma(input_img, gamma=0.4, gain=0.9)\n",
    "        i += 1\n",
    "        name = d2[str(dataset)] + str(i+j) +'.jpg'\n",
    "        cv2.imwrite(os.path.join(path , dataset, name),adjusted_gamma_image)\n",
    "        #log correction\n",
    "        log_correction_image = exposure.adjust_log(input_img)\n",
    "        i += 1\n",
    "        name = d2[str(dataset)] + str(i+j) +'.jpg'\n",
    "        cv2.imwrite(os.path.join(path , dataset, name),log_correction_image)\n",
    "        #sigmoid correction\n",
    "        sigmoid_correction_image = exposure.adjust_sigmoid(input_img)\n",
    "        i += 1\n",
    "        name = d2[str(dataset)] + str(i+j) +'.jpg'\n",
    "        cv2.imwrite(os.path.join(path , dataset, name),sigmoid_correction_image)\n",
    "        #blur\n",
    "        #blured_image = ndimage.uniform_filter(input_img_resize, size=(128, 128,1))\n",
    "        #i += 1\n",
    "        #name = d2[str(dataset)] + str(i+j) +'.jpg'\n",
    "        #cv2.imwrite(os.path.join(path , dataset, name),blured_image)\n",
    "    lst.append(i)\n",
    "        "
   ]
  },
  {
   "cell_type": "code",
   "execution_count": null,
   "metadata": {},
   "outputs": [],
   "source": [
    "for dataset in data_dir_list:\n",
    "    img_list=os.listdir(data_path+'/'+ dataset)\n",
    "    j = d[str(dataset)]\n",
    "    print(j)"
   ]
  },
  {
   "cell_type": "code",
   "execution_count": 4,
   "metadata": {},
   "outputs": [
    {
     "data": {
      "text/plain": [
       "[1010, 2020, 3070, 5170, 6995, 8005, 9015]"
      ]
     },
     "execution_count": 4,
     "metadata": {},
     "output_type": "execute_result"
    }
   ],
   "source": [
    "lst"
   ]
  },
  {
   "cell_type": "code",
   "execution_count": 7,
   "metadata": {},
   "outputs": [],
   "source": [
    "lst2 = [202,202,210,420,365,202,202]\n",
    "j = 0\n",
    "for i in lst:\n",
    "    lst[j] += lst2[j]\n",
    "    j += 1"
   ]
  },
  {
   "cell_type": "code",
   "execution_count": 2,
   "metadata": {},
   "outputs": [],
   "source": [
    "lst2 = [202,202,210,420,365,202,202]"
   ]
  },
  {
   "cell_type": "code",
   "execution_count": 3,
   "metadata": {},
   "outputs": [],
   "source": [
    "lst3 = []\n",
    "o = 0\n",
    "for i in lst2:\n",
    "    st = str(o) + ':'\n",
    "    o += i\n",
    "    st += str(o)\n",
    "    lst3.append(st)"
   ]
  },
  {
   "cell_type": "code",
   "execution_count": 4,
   "metadata": {},
   "outputs": [
    {
     "data": {
      "text/plain": [
       "['0:202',\n",
       " '202:404',\n",
       " '404:614',\n",
       " '614:1034',\n",
       " '1034:1399',\n",
       " '1399:1601',\n",
       " '1601:1803']"
      ]
     },
     "execution_count": 4,
     "metadata": {},
     "output_type": "execute_result"
    }
   ],
   "source": [
    "lst3"
   ]
  },
  {
   "cell_type": "code",
   "execution_count": null,
   "metadata": {},
   "outputs": [],
   "source": []
  }
 ],
 "metadata": {
  "kernelspec": {
   "display_name": "Python 3",
   "language": "python",
   "name": "python3"
  },
  "language_info": {
   "codemirror_mode": {
    "name": "ipython",
    "version": 3
   },
   "file_extension": ".py",
   "mimetype": "text/x-python",
   "name": "python",
   "nbconvert_exporter": "python",
   "pygments_lexer": "ipython3",
   "version": "3.6.6"
  }
 },
 "nbformat": 4,
 "nbformat_minor": 2
}
